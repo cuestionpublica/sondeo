{
 "cells": [
  {
   "cell_type": "markdown",
   "metadata": {},
   "source": [
    "Create function to add more objects in `usuarios` collection."
   ]
  },
  {
   "cell_type": "code",
   "execution_count": null,
   "metadata": {
    "collapsed": true
   },
   "outputs": [],
   "source": [
    "# import modules\n",
    "import warnings\n",
    "warnings.filterwarnings('ignore')\n",
    "\n",
    "from pymongo import MongoClient as MC\n",
    "import json, codecs, uuid, time\n",
    "import pandas as pd"
   ]
  },
  {
   "cell_type": "code",
   "execution_count": null,
   "metadata": {
    "collapsed": true
   },
   "outputs": [],
   "source": [
    "# Create connection to Mlab\n",
    "mongoURI = open('../config/mongouri.txt').readlines()[0]\n",
    "client = MC(mongoURI, connectTimeoutMS=30000)"
   ]
  },
  {
   "cell_type": "code",
   "execution_count": null,
   "metadata": {
    "collapsed": true
   },
   "outputs": [],
   "source": [
    "def create_password(data):\n",
    "    '''\n",
    "    '''\n",
    "    passwords = [(e, str(uuid.uuid4()).split('-')[0].upper()) for e in data['email']]\n",
    "    return pd.DataFrame(passwords, columns=['email', 'password'])"
   ]
  },
  {
   "cell_type": "code",
   "execution_count": null,
   "metadata": {
    "collapsed": true
   },
   "outputs": [],
   "source": [
    "def create_objects(path_to_file):\n",
    "    '''\n",
    "    '''\n",
    "    data = pd.read_excel(path_to_file)\n",
    "    \n",
    "    # create new field\n",
    "    data['name'] = [i.split()[0].strip() for i in data['nombre']]\n",
    "    \n",
    "    # create passwords\n",
    "    pswrds = create_password(data)\n",
    "    \n",
    "    # create dataset\n",
    "    dataset = data.merge(pswrds, how='left', on='email')\n",
    "    \n",
    "    # save dataset in xlsx format\n",
    "    dataset.to_excel('../../usuarios_sondeo/dataset_{}.xlsx'.format(int(time.time())), index=False)\n",
    "    \n",
    "    # return\n",
    "    return dataset.to_dict(orient='records')"
   ]
  },
  {
   "cell_type": "code",
   "execution_count": null,
   "metadata": {
    "collapsed": true
   },
   "outputs": [],
   "source": [
    "def create_data(Object):\n",
    "    '''\n",
    "    '''\n",
    "    db = client['cpublica_sondeo']\n",
    "    insertdata = db.usuarios.insert(Object)"
   ]
  },
  {
   "cell_type": "markdown",
   "metadata": {},
   "source": [
    "#### `Cambiar ruta de archivo .xlsx`"
   ]
  },
  {
   "cell_type": "code",
   "execution_count": null,
   "metadata": {
    "collapsed": true
   },
   "outputs": [],
   "source": [
    "path = '../../usuarios_sondeo/new_donors.xlsx'"
   ]
  },
  {
   "cell_type": "code",
   "execution_count": null,
   "metadata": {
    "collapsed": true
   },
   "outputs": [],
   "source": [
    "Object = create_objects(path)\n",
    "insertdata = create_data(Object)"
   ]
  },
  {
   "cell_type": "code",
   "execution_count": null,
   "metadata": {
    "collapsed": true
   },
   "outputs": [],
   "source": []
  }
 ],
 "metadata": {
  "kernelspec": {
   "display_name": "Python 3",
   "language": "python",
   "name": "python3"
  },
  "language_info": {
   "codemirror_mode": {
    "name": "ipython",
    "version": 3
   },
   "file_extension": ".py",
   "mimetype": "text/x-python",
   "name": "python",
   "nbconvert_exporter": "python",
   "pygments_lexer": "ipython3",
   "version": "3.6.0"
  }
 },
 "nbformat": 4,
 "nbformat_minor": 2
}
