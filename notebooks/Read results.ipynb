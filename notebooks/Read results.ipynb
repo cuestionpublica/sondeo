{
 "cells": [
  {
   "cell_type": "code",
   "execution_count": null,
   "metadata": {
    "collapsed": true
   },
   "outputs": [],
   "source": [
    "# import modules\n",
    "import warnings\n",
    "warnings.filterwarnings('ignore')\n",
    "\n",
    "from pymongo import MongoClient as MC\n",
    "import time\n",
    "import pandas as pd\n",
    "from collections import Counter"
   ]
  },
  {
   "cell_type": "code",
   "execution_count": null,
   "metadata": {
    "collapsed": true
   },
   "outputs": [],
   "source": [
    "# Create connection to Mlab\n",
    "mongoURI = open('mongo_uri.txt').readlines()[0]\n",
    "client = MC(mongoURI, connectTimeoutMS=30000)"
   ]
  },
  {
   "cell_type": "code",
   "execution_count": null,
   "metadata": {},
   "outputs": [],
   "source": [
    "# Get keys\n",
    "keys = [i.rstrip() for i in open('keys.txt')]"
   ]
  },
  {
   "cell_type": "code",
   "execution_count": null,
   "metadata": {
    "collapsed": true
   },
   "outputs": [],
   "source": [
    "def get_db(client):\n",
    "    return client['cpublica_sondeo']\n",
    "\n",
    "def get_collection(db):\n",
    "    return db.responses\n",
    "\n",
    "def get_data(client):\n",
    "    db = get_db(client)\n",
    "    collection = get_collection(db)\n",
    "    return [obj for obj in collection.find()]"
   ]
  },
  {
   "cell_type": "code",
   "execution_count": null,
   "metadata": {
    "collapsed": true
   },
   "outputs": [],
   "source": [
    "def create_dataset(client):\n",
    "    exceptions = ['__v', '_id']\n",
    "    data = get_data(client)\n",
    "    for obj in data:\n",
    "        for i in exceptions:\n",
    "            del obj[i]\n",
    "    \n",
    "    return data"
   ]
  },
  {
   "cell_type": "code",
   "execution_count": null,
   "metadata": {
    "collapsed": true
   },
   "outputs": [],
   "source": [
    "def create_dataframe(data, path, k=keys):\n",
    "    df_ = pd.DataFrame(data)\n",
    "    df = df_[keys]\n",
    "    df.to_excel(path.format('respuestas_' + str(int(time.time()))), index=False)\n",
    "    \n",
    "    return df"
   ]
  },
  {
   "cell_type": "code",
   "execution_count": null,
   "metadata": {
    "collapsed": true
   },
   "outputs": [],
   "source": [
    "# Create frequencies\n",
    "def count_items(data, column, path):\n",
    "    '''\n",
    "    '''\n",
    "    df_ = data.copy()\n",
    "    df_[column] = df_[column].str.upper()\n",
    "    \n",
    "    count = df_[column].tolist()\n",
    "    freqs = Counter(count).most_common()\n",
    "    \n",
    "    # Create dataframe\n",
    "    cols = [column, 'frecuencia']\n",
    "    df = pd.DataFrame(freqs, columns=cols)\n",
    "    \n",
    "    # Create new columns\n",
    "    df['freqs_cumsum'] = df.frecuencia.cumsum()\n",
    "    df['prcnt_cumsum'] = round((df.freqs_cumsum / df.frecuencia.sum()) * 100, 2)\n",
    "    df['prcnt'] = round((df.frecuencia / df.frecuencia.sum()) * 100, 2)\n",
    "    \n",
    "    dataset = df.sort_values(by='frecuencia', ascending=False)\n",
    "    dataset.to_excel(path.format('respuestas_counter_' + str(int(time.time()))), index=False)\n",
    "    \n",
    "    return dataset"
   ]
  },
  {
   "cell_type": "code",
   "execution_count": null,
   "metadata": {
    "collapsed": true
   },
   "outputs": [],
   "source": [
    "path = '{}.xlsx'"
   ]
  },
  {
   "cell_type": "code",
   "execution_count": null,
   "metadata": {},
   "outputs": [],
   "source": [
    "data = create_dataset(client)\n",
    "df = create_dataframe(data, path)\n",
    "counter = count_items(df, 'name', path)"
   ]
  },
  {
   "cell_type": "code",
   "execution_count": null,
   "metadata": {
    "collapsed": true
   },
   "outputs": [],
   "source": []
  }
 ],
 "metadata": {
  "kernelspec": {
   "display_name": "Python 3",
   "language": "python",
   "name": "python3"
  },
  "language_info": {
   "codemirror_mode": {
    "name": "ipython",
    "version": 3
   },
   "file_extension": ".py",
   "mimetype": "text/x-python",
   "name": "python",
   "nbconvert_exporter": "python",
   "pygments_lexer": "ipython3",
   "version": "3.6.2"
  }
 },
 "nbformat": 4,
 "nbformat_minor": 2
}
